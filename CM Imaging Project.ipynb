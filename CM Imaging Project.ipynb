{
 "cells": [
  {
   "cell_type": "code",
   "execution_count": 1,
   "metadata": {},
   "outputs": [],
   "source": [
    "# import modules\n",
    "import pandas as pd\n",
    "import seaborn as sns\n",
    "import matplotlib.pyplot as plt\n",
    "import numpy as np\n",
    "from tqdm import tqdm\n",
    "from scipy.stats import zscore\n",
    "\n",
    "# inline plots\n",
    "%matplotlib inline"
   ]
  },
  {
   "cell_type": "code",
   "execution_count": 2,
   "metadata": {},
   "outputs": [],
   "source": [
    "# read the data\n",
    "dat_all = pd.read_excel('ADNI_ICM_random200.xlsx')\n",
    "dat_all = dat_all.replace({'\\'':''}, regex=True) # remove ' ' from data\n",
    "dat_all = dat_all.rename(columns=lambda x:x.strip('\\'')) # remove ' ' from column names\n",
    "#dat_all"
   ]
  },
  {
   "cell_type": "code",
   "execution_count": 3,
   "metadata": {},
   "outputs": [],
   "source": [
    "# select only the columns of interest\n",
    "rois = ['IFG_opercularis_L','IFG_orbitalis_L','IFG_triangularis_L','LFOG_L','MFG_L','MFOG_L','PrCG_L','SFG_L',\n",
    "       'IFG_opercularis_R','IFG_orbitalis_R','IFG_triangularis_R','LFOG_R','MFG_R','MFOG_R','PrCG_R','SFG_R']\n",
    "info = ['Subject_ID', 'Gender', 'Age', 'Diagnosis']\n",
    "columns = np.concatenate((info, rois), axis=0)\n",
    "dat = dat_all[columns]\n",
    "#dat"
   ]
  },
  {
   "cell_type": "code",
   "execution_count": 4,
   "metadata": {},
   "outputs": [],
   "source": [
    "# split into Alzheimer's group and control group\n",
    "ad = dat[dat.Diagnosis == 'AD/MCI']\n",
    "control = dat[dat.Diagnosis == 'NORMAL']"
   ]
  },
  {
   "cell_type": "code",
   "execution_count": 5,
   "metadata": {},
   "outputs": [],
   "source": [
    "#ad"
   ]
  },
  {
   "cell_type": "code",
   "execution_count": 6,
   "metadata": {},
   "outputs": [],
   "source": [
    "#control"
   ]
  },
  {
   "cell_type": "code",
   "execution_count": 7,
   "metadata": {},
   "outputs": [],
   "source": [
    "# split patient info and volume data\n",
    "ad_info = ad[info]\n",
    "ad_volume = ad[rois]\n",
    "control_info = control[info]\n",
    "control_volume = control[rois]"
   ]
  },
  {
   "cell_type": "code",
   "execution_count": 8,
   "metadata": {},
   "outputs": [],
   "source": [
    "#ad_volume"
   ]
  },
  {
   "cell_type": "code",
   "execution_count": 9,
   "metadata": {},
   "outputs": [],
   "source": [
    "#control_volume"
   ]
  },
  {
   "cell_type": "code",
   "execution_count": 10,
   "metadata": {},
   "outputs": [
    {
     "data": {
      "text/html": [
       "<div>\n",
       "<style scoped>\n",
       "    .dataframe tbody tr th:only-of-type {\n",
       "        vertical-align: middle;\n",
       "    }\n",
       "\n",
       "    .dataframe tbody tr th {\n",
       "        vertical-align: top;\n",
       "    }\n",
       "\n",
       "    .dataframe thead th {\n",
       "        text-align: right;\n",
       "    }\n",
       "</style>\n",
       "<table border=\"1\" class=\"dataframe\">\n",
       "  <thead>\n",
       "    <tr style=\"text-align: right;\">\n",
       "      <th></th>\n",
       "      <th>ad_mean</th>\n",
       "      <th>ad_std</th>\n",
       "      <th>control_mean</th>\n",
       "      <th>control_std</th>\n",
       "    </tr>\n",
       "  </thead>\n",
       "  <tbody>\n",
       "    <tr>\n",
       "      <td>IFG_opercularis_L</td>\n",
       "      <td>3016.852941</td>\n",
       "      <td>501.002514</td>\n",
       "      <td>2976.343750</td>\n",
       "      <td>612.113700</td>\n",
       "    </tr>\n",
       "    <tr>\n",
       "      <td>IFG_orbitalis_L</td>\n",
       "      <td>3473.705882</td>\n",
       "      <td>591.191667</td>\n",
       "      <td>3427.140625</td>\n",
       "      <td>592.808914</td>\n",
       "    </tr>\n",
       "    <tr>\n",
       "      <td>IFG_triangularis_L</td>\n",
       "      <td>3065.566176</td>\n",
       "      <td>537.863534</td>\n",
       "      <td>3018.078125</td>\n",
       "      <td>500.433821</td>\n",
       "    </tr>\n",
       "    <tr>\n",
       "      <td>LFOG_L</td>\n",
       "      <td>4472.529412</td>\n",
       "      <td>591.059237</td>\n",
       "      <td>4364.015625</td>\n",
       "      <td>503.103779</td>\n",
       "    </tr>\n",
       "    <tr>\n",
       "      <td>MFG_L</td>\n",
       "      <td>8083.889706</td>\n",
       "      <td>1216.337877</td>\n",
       "      <td>8085.109375</td>\n",
       "      <td>1280.707941</td>\n",
       "    </tr>\n",
       "    <tr>\n",
       "      <td>MFOG_L</td>\n",
       "      <td>4309.022059</td>\n",
       "      <td>619.316570</td>\n",
       "      <td>4162.500000</td>\n",
       "      <td>494.428354</td>\n",
       "    </tr>\n",
       "    <tr>\n",
       "      <td>PrCG_L</td>\n",
       "      <td>11954.632353</td>\n",
       "      <td>1463.244000</td>\n",
       "      <td>11542.546875</td>\n",
       "      <td>1527.466311</td>\n",
       "    </tr>\n",
       "    <tr>\n",
       "      <td>SFG_L</td>\n",
       "      <td>10087.345588</td>\n",
       "      <td>1520.218115</td>\n",
       "      <td>9988.765625</td>\n",
       "      <td>1254.643094</td>\n",
       "    </tr>\n",
       "    <tr>\n",
       "      <td>IFG_opercularis_R</td>\n",
       "      <td>2849.308824</td>\n",
       "      <td>541.009612</td>\n",
       "      <td>2727.250000</td>\n",
       "      <td>518.554431</td>\n",
       "    </tr>\n",
       "    <tr>\n",
       "      <td>IFG_orbitalis_R</td>\n",
       "      <td>2720.977941</td>\n",
       "      <td>497.621773</td>\n",
       "      <td>2588.093750</td>\n",
       "      <td>466.202991</td>\n",
       "    </tr>\n",
       "    <tr>\n",
       "      <td>IFG_triangularis_R</td>\n",
       "      <td>2820.801471</td>\n",
       "      <td>533.208066</td>\n",
       "      <td>2701.187500</td>\n",
       "      <td>528.047192</td>\n",
       "    </tr>\n",
       "    <tr>\n",
       "      <td>LFOG_R</td>\n",
       "      <td>4158.257353</td>\n",
       "      <td>510.538147</td>\n",
       "      <td>3931.078125</td>\n",
       "      <td>565.357347</td>\n",
       "    </tr>\n",
       "    <tr>\n",
       "      <td>MFG_R</td>\n",
       "      <td>7855.110294</td>\n",
       "      <td>1162.797092</td>\n",
       "      <td>7898.296875</td>\n",
       "      <td>1452.119050</td>\n",
       "    </tr>\n",
       "    <tr>\n",
       "      <td>MFOG_R</td>\n",
       "      <td>4088.750000</td>\n",
       "      <td>541.179271</td>\n",
       "      <td>3966.500000</td>\n",
       "      <td>479.755526</td>\n",
       "    </tr>\n",
       "    <tr>\n",
       "      <td>PrCG_R</td>\n",
       "      <td>14237.786765</td>\n",
       "      <td>1800.597750</td>\n",
       "      <td>14203.078125</td>\n",
       "      <td>2296.123519</td>\n",
       "    </tr>\n",
       "    <tr>\n",
       "      <td>SFG_R</td>\n",
       "      <td>8264.161765</td>\n",
       "      <td>1154.610296</td>\n",
       "      <td>8369.531250</td>\n",
       "      <td>1190.325859</td>\n",
       "    </tr>\n",
       "  </tbody>\n",
       "</table>\n",
       "</div>"
      ],
      "text/plain": [
       "                         ad_mean       ad_std  control_mean  control_std\n",
       "IFG_opercularis_L    3016.852941   501.002514   2976.343750   612.113700\n",
       "IFG_orbitalis_L      3473.705882   591.191667   3427.140625   592.808914\n",
       "IFG_triangularis_L   3065.566176   537.863534   3018.078125   500.433821\n",
       "LFOG_L               4472.529412   591.059237   4364.015625   503.103779\n",
       "MFG_L                8083.889706  1216.337877   8085.109375  1280.707941\n",
       "MFOG_L               4309.022059   619.316570   4162.500000   494.428354\n",
       "PrCG_L              11954.632353  1463.244000  11542.546875  1527.466311\n",
       "SFG_L               10087.345588  1520.218115   9988.765625  1254.643094\n",
       "IFG_opercularis_R    2849.308824   541.009612   2727.250000   518.554431\n",
       "IFG_orbitalis_R      2720.977941   497.621773   2588.093750   466.202991\n",
       "IFG_triangularis_R   2820.801471   533.208066   2701.187500   528.047192\n",
       "LFOG_R               4158.257353   510.538147   3931.078125   565.357347\n",
       "MFG_R                7855.110294  1162.797092   7898.296875  1452.119050\n",
       "MFOG_R               4088.750000   541.179271   3966.500000   479.755526\n",
       "PrCG_R              14237.786765  1800.597750  14203.078125  2296.123519\n",
       "SFG_R                8264.161765  1154.610296   8369.531250  1190.325859"
      ]
     },
     "execution_count": 10,
     "metadata": {},
     "output_type": "execute_result"
    }
   ],
   "source": [
    "# create new df with mean and standard deviation for both groups\n",
    "mean_std = pd.DataFrame({'ad_mean':ad_volume.mean(), 'ad_std':ad_volume.std(), \n",
    "                         'control_mean':control_volume.mean(), 'control_std':control_volume.std()})\n",
    "mean_std"
   ]
  },
  {
   "cell_type": "code",
   "execution_count": 11,
   "metadata": {},
   "outputs": [],
   "source": [
    "# calculate z-scores for each patient\n",
    "ad_zscore = ad_volume.apply(zscore)\n",
    "control_zscore = control_volume.apply(zscore)"
   ]
  },
  {
   "cell_type": "code",
   "execution_count": 12,
   "metadata": {},
   "outputs": [],
   "source": [
    "#ad_zscore"
   ]
  },
  {
   "cell_type": "code",
   "execution_count": 13,
   "metadata": {},
   "outputs": [],
   "source": [
    "#control_zscore"
   ]
  },
  {
   "cell_type": "code",
   "execution_count": 14,
   "metadata": {},
   "outputs": [
    {
     "data": {
      "image/png": "[encoded data removed]",
      "text/plain": [
       "<Figure size 432x288 with 2 Axes>"
      ]
     },
     "metadata": {
      "needs_background": "light"
     },
     "output_type": "display_data"
    }
   ],
   "source": [
    "# heat map for all Alzheimer's patients\n",
    "ax1 = sns.heatmap(ad_zscore, center=0)\n",
    "ax1.set(title = \"z-score Barcodes for Alzheimer's Patients\");"
   ]
  },
  {
   "cell_type": "code",
   "execution_count": 15,
   "metadata": {},
   "outputs": [
    {
     "data": {
      "image/png": "[encoded data removed]",
      "text/plain": [
       "<Figure size 432x288 with 2 Axes>"
      ]
     },
     "metadata": {
      "needs_background": "light"
     },
     "output_type": "display_data"
    }
   ],
   "source": [
    "# heat map for all control patients\n",
    "ax2 = sns.heatmap(control_zscore, center=0)\n",
    "ax2.set(title = \"z-score Barcodes for Control Patients\");"
   ]
  },
  {
   "cell_type": "code",
   "execution_count": null,
   "metadata": {},
   "outputs": [],
   "source": []
  },
  {
   "cell_type": "code",
   "execution_count": null,
   "metadata": {},
   "outputs": [],
   "source": []
  },
  {
   "cell_type": "code",
   "execution_count": null,
   "metadata": {},
   "outputs": [],
   "source": []
  },
  {
   "cell_type": "code",
   "execution_count": null,
   "metadata": {},
   "outputs": [],
   "source": []
  },
  {
   "cell_type": "code",
   "execution_count": null,
   "metadata": {},
   "outputs": [],
   "source": []
  },
  {
   "cell_type": "code",
   "execution_count": null,
   "metadata": {},
   "outputs": [],
   "source": []
  },
  {
   "cell_type": "code",
   "execution_count": null,
   "metadata": {},
   "outputs": [],
   "source": []
  },
  {
   "cell_type": "code",
   "execution_count": null,
   "metadata": {},
   "outputs": [],
   "source": []
  },
  {
   "cell_type": "code",
   "execution_count": null,
   "metadata": {},
   "outputs": [],
   "source": []
  },
  {
   "cell_type": "code",
   "execution_count": null,
   "metadata": {},
   "outputs": [],
   "source": []
  }
 ],
 "metadata": {
  "kernelspec": {
   "display_name": "Python 3",
   "language": "python",
   "name": "python3"
  },
  "language_info": {
   "codemirror_mode": {
    "name": "ipython",
    "version": 3
   },
   "file_extension": ".py",
   "mimetype": "text/x-python",
   "name": "python",
   "nbconvert_exporter": "python",
   "pygments_lexer": "ipython3",
   "version": "3.7.4"
  }
 },
 "nbformat": 4,
 "nbformat_minor": 2
}
